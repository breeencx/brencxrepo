{
 "cells": [
  {
   "cell_type": "markdown",
   "id": "a365fd35",
   "metadata": {},
   "source": [
    "## Calculos con polinomios de Legendre"
   ]
  },
  {
   "cell_type": "markdown",
   "id": "1abf08f6",
   "metadata": {},
   "source": [
    "1. saber f(x)\n",
    "2. definir intervalo de integracion [a,b]\n",
    "3. construir la rebanada de la integral\n",
    "3.1 elegir N $h= {a-b} / {N} $\n",
    "3.2 Construir el $P_N$\n",
    "4. Conocer los $f(x_i)$\n",
    "4.1 calcular los $x_i$ $--->$ ceros de $P_N$ (raices)\n",
    "\n",
    "5. calcular $\\omega_c$\n",
    "6. sumar las rebanadas"
   ]
  },
  {
   "cell_type": "markdown",
   "id": "98d9c75d",
   "metadata": {},
   "source": [
    "Con $ f(x) = x²+4x+2 $\n",
    "\n",
    "Tomando la aproximacion para n= 3\n",
    "\n",
    "$p(x)$ de grando $N$\n",
    "\n",
    "\n",
    "$P_3(x)= \\frac{1}{2} (5x³ - 3x) $ "
   ]
  },
  {
   "cell_type": "code",
   "execution_count": 27,
   "id": "b3060253",
   "metadata": {},
   "outputs": [
    {
     "ename": "ModuleNotFoundError",
     "evalue": "No module named 'gaussxw'",
     "output_type": "error",
     "traceback": [
      "\u001b[0;31m---------------------------------------------------------------------------\u001b[0m",
      "\u001b[0;31mModuleNotFoundError\u001b[0m                       Traceback (most recent call last)",
      "Cell \u001b[0;32mIn[27], line 5\u001b[0m\n\u001b[1;32m      3\u001b[0m \u001b[38;5;28;01mimport\u001b[39;00m \u001b[38;5;21;01mmatplotlib\u001b[39;00m\u001b[38;5;21;01m.\u001b[39;00m\u001b[38;5;21;01mpyplot\u001b[39;00m \u001b[38;5;28;01mas\u001b[39;00m \u001b[38;5;21;01mplt\u001b[39;00m\n\u001b[1;32m      4\u001b[0m \u001b[38;5;28;01mimport\u001b[39;00m \u001b[38;5;21;01mscipy\u001b[39;00m \u001b[38;5;28;01mas\u001b[39;00m \u001b[38;5;21;01msp\u001b[39;00m\n\u001b[0;32m----> 5\u001b[0m \u001b[38;5;28;01mimport\u001b[39;00m \u001b[38;5;21;01mgaussxw\u001b[39;00m\n",
      "\u001b[0;31mModuleNotFoundError\u001b[0m: No module named 'gaussxw'"
     ]
    }
   ],
   "source": [
    "import math\n",
    "import sympy as sy\n",
    "import matplotlib.pyplot as plt\n",
    "import scipy as sp\n",
    "import gaussxw"
   ]
  },
  {
   "cell_type": "markdown",
   "id": "6e5c6ca1",
   "metadata": {},
   "source": [
    "checar las aproximaciones de Legendre\n",
    "\n",
    "checar el calculo de $P_N$ de la cuadratura de Gauss para $N= 3$\n",
    "\n"
   ]
  },
  {
   "cell_type": "code",
   "execution_count": 24,
   "id": "a93183d6",
   "metadata": {},
   "outputs": [],
   "source": [
    "N=3\n",
    "x,w = sp.special.roots_laguerre(N)\n",
    "w\n",
    "def f(x):\n",
    "    return x**2 + 4*x +2\n",
    "\n",
    "def f(x2):\n",
    "    return (np.e**x), (np.cos(x))"
   ]
  },
  {
   "cell_type": "code",
   "execution_count": 25,
   "id": "f6f4546e",
   "metadata": {},
   "outputs": [],
   "source": [
    "N= 3\n",
    "a=8\n",
    "b= 27"
   ]
  },
  {
   "cell_type": "code",
   "execution_count": 26,
   "id": "fc692289",
   "metadata": {},
   "outputs": [
    {
     "ename": "NameError",
     "evalue": "name 'gaussxwab' is not defined",
     "output_type": "error",
     "traceback": [
      "\u001b[0;31m---------------------------------------------------------------------------\u001b[0m",
      "\u001b[0;31mNameError\u001b[0m                                 Traceback (most recent call last)",
      "Cell \u001b[0;32mIn[26], line 1\u001b[0m\n\u001b[0;32m----> 1\u001b[0m x, w\u001b[38;5;241m=\u001b[39m \u001b[43mgaussxwab\u001b[49m(N,a,b)\n",
      "\u001b[0;31mNameError\u001b[0m: name 'gaussxwab' is not defined"
     ]
    }
   ],
   "source": [
    "x, w= gaussxwab(N,a,b)"
   ]
  },
  {
   "cell_type": "code",
   "execution_count": null,
   "id": "e6c4db57",
   "metadata": {},
   "outputs": [],
   "source": []
  }
 ],
 "metadata": {
  "kernelspec": {
   "display_name": "Python 3 (ipykernel)",
   "language": "python",
   "name": "python3"
  },
  "language_info": {
   "codemirror_mode": {
    "name": "ipython",
    "version": 3
   },
   "file_extension": ".py",
   "mimetype": "text/x-python",
   "name": "python",
   "nbconvert_exporter": "python",
   "pygments_lexer": "ipython3",
   "version": "3.9.13"
  }
 },
 "nbformat": 4,
 "nbformat_minor": 5
}
