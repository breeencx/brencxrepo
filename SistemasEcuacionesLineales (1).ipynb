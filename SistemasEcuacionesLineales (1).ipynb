{
 "cells": [
  {
   "cell_type": "code",
   "execution_count": 1,
   "id": "a5324d18",
   "metadata": {},
   "outputs": [],
   "source": [
    "import numpy as np\n",
    "import scipy as sp\n",
    "import matplotlib.pyplot as plt"
   ]
  },
  {
   "cell_type": "code",
   "execution_count": null,
   "id": "e5015405",
   "metadata": {},
   "outputs": [],
   "source": []
  },
  {
   "cell_type": "markdown",
   "id": "161ffad7",
   "metadata": {},
   "source": [
    "<h3 align=\"center\">$\\mathbb{A}\\vec{x} = \\vec{v}$</h3> \n"
   ]
  },
  {
   "cell_type": "code",
   "execution_count": null,
   "id": "6d158f8f",
   "metadata": {},
   "outputs": [],
   "source": []
  },
  {
   "cell_type": "markdown",
   "id": "e839feaa",
   "metadata": {},
   "source": [
    "<h3 align=\"center\">$\n",
    "\\begin{pmatrix}\n",
    "2 & 1 & 4 & 1\\\\\n",
    "3 & 4 & -1 & -1\\\\\n",
    "1 & -4 & 1 & 5\\\\\n",
    "2 & -2 & 1 & 3\\\\\n",
    "\\end{pmatrix}\n",
    "  \\begin{align}\n",
    "    \\begin{pmatrix}\n",
    "           w \\\\\n",
    "           x \\\\\n",
    "           y \\\\\n",
    "           z \n",
    "    \\end{pmatrix}\n",
    "    =\n",
    "    \\begin{pmatrix}\n",
    "           -4 \\\\\n",
    "           3 \\\\\n",
    "           9 \\\\\n",
    "           7 \n",
    "         \\end{pmatrix}\n",
    "  \\end{align}\n",
    "$</h3> "
   ]
  },
  {
   "cell_type": "code",
   "execution_count": null,
   "id": "d84e2d46",
   "metadata": {},
   "outputs": [],
   "source": []
  },
  {
   "cell_type": "code",
   "execution_count": 2,
   "id": "cfb89412",
   "metadata": {},
   "outputs": [],
   "source": [
    "\n",
    "# Matriz que representa el sistema a resolver\n",
    "A = np.array([[ 2,  1,  4,  1 ],\n",
    "           [ 3,  4, -1, -1 ],\n",
    "           [ 1, -4,  1,  5 ],\n",
    "           [ 2, -2,  1,  3 ]],float)\n",
    "\n",
    "\n",
    "v = np.array([ -4, 3, 9, 7 ],float)  # Vector del sistema a resolver\n"
   ]
  },
  {
   "cell_type": "markdown",
   "id": "112023ce",
   "metadata": {},
   "source": [
    "### div"
   ]
  },
  {
   "cell_type": "code",
   "execution_count": 3,
   "id": "a4443f2a",
   "metadata": {
    "collapsed": true
   },
   "outputs": [
    {
     "name": "stdout",
     "output_type": "stream",
     "text": [
      "[[ 2.  1.  4.  1.]\n",
      " [ 3.  4. -1. -1.]\n",
      " [ 1. -4.  1.  5.]\n",
      " [ 2. -2.  1.  3.]]\n",
      "2.0\n",
      "-----------------\n",
      "[[ 1.   0.5  2.   0.5]\n",
      " [ 3.   4.  -1.  -1. ]\n",
      " [ 1.  -4.   1.   5. ]\n",
      " [ 2.  -2.   1.   3. ]]\n",
      "[-2.  3.  9.  7.]\n",
      "-----------------\n",
      "[[ 1.   0.5  2.   0.5]\n",
      " [ 3.   4.  -1.  -1. ]\n",
      " [ 1.  -4.   1.   5. ]\n",
      " [ 2.  -2.   1.   3. ]]\n",
      "4.0\n",
      "-----------------\n",
      "[[ 1.    0.5   2.    0.5 ]\n",
      " [ 0.75  1.   -0.25 -0.25]\n",
      " [ 1.   -4.    1.    5.  ]\n",
      " [ 2.   -2.    1.    3.  ]]\n",
      "[-2.    0.75  9.    7.  ]\n",
      "-----------------\n",
      "[[ 1.    0.5   2.    0.5 ]\n",
      " [ 0.75  1.   -0.25 -0.25]\n",
      " [ 1.   -4.    1.    5.  ]\n",
      " [ 2.   -2.    1.    3.  ]]\n",
      "1.0\n",
      "-----------------\n",
      "[[ 1.    0.5   2.    0.5 ]\n",
      " [ 0.75  1.   -0.25 -0.25]\n",
      " [ 1.   -4.    1.    5.  ]\n",
      " [ 2.   -2.    1.    3.  ]]\n",
      "[-2.    0.75  9.    7.  ]\n",
      "-----------------\n",
      "[[ 1.    0.5   2.    0.5 ]\n",
      " [ 0.75  1.   -0.25 -0.25]\n",
      " [ 1.   -4.    1.    5.  ]\n",
      " [ 2.   -2.    1.    3.  ]]\n",
      "3.0\n",
      "-----------------\n",
      "[[ 1.          0.5         2.          0.5       ]\n",
      " [ 0.75        1.         -0.25       -0.25      ]\n",
      " [ 1.         -4.          1.          5.        ]\n",
      " [ 0.66666667 -0.66666667  0.33333333  1.        ]]\n",
      "[-2.          0.75        9.          2.33333333]\n",
      "-----------------\n",
      "********************************\n",
      "********************************\n",
      "[[ 1.          0.5         2.          0.5       ]\n",
      " [ 0.75        1.         -0.25       -0.25      ]\n",
      " [ 1.         -4.          1.          5.        ]\n",
      " [ 0.66666667 -0.66666667  0.33333333  1.        ]]\n"
     ]
    }
   ],
   "source": [
    "v = np.array([ -4, 3, 9, 7 ],float)  # Vector del sistema a resolver\n",
    "N = len(v)   #dimension\n",
    "\n",
    "A = np.array([[ 2,  1,  4,  1 ],\n",
    "           [ 3,  4, -1, -1 ],\n",
    "           [ 1, -4,  1,  5 ],\n",
    "           [ 2, -2,  1,  3 ]],float)\n",
    "\n",
    "\n",
    "\n",
    "# Eliminacion Gaussiana\n",
    "for m in range(N):\n",
    "    \n",
    "    print(A)\n",
    "\n",
    "    # Localizo el elemento a pivotear\n",
    "    div = A[m,m]\n",
    "    print(div)\n",
    "    \n",
    "#   A[m,:] = A[m,:]/div\n",
    "    A[m,:] /= div  # divido el renglon que toca entre su pivote\n",
    "    # Recuerda que A[m,:] = es el renglon m\n",
    "    # Recuerda que a/=b divide por b y reasigna el resultado a la variable a, es lo mismo que a = a/b\n",
    "    print(\"-----------------\")\n",
    "    print(A)\n",
    "    \n",
    "    v[m] /= div      # También dividimos al vector del sistema por el pivote\n",
    "    print(v)\n",
    "    print(\"-----------------\")\n",
    "\n",
    "print(\"********************************\")    \n",
    "print(\"********************************\")    \n",
    "print(A)\n"
   ]
  },
  {
   "cell_type": "markdown",
   "id": "8ebefeb9",
   "metadata": {},
   "source": [
    "### mult"
   ]
  },
  {
   "cell_type": "code",
   "execution_count": 4,
   "id": "18582d84",
   "metadata": {},
   "outputs": [
    {
     "name": "stdout",
     "output_type": "stream",
     "text": [
      "[[ 1.   0.5  2.   0.5]\n",
      " [ 0.   2.5 -7.  -2.5]\n",
      " [ 0.  -4.5 -1.   4.5]\n",
      " [ 0.  -3.  -3.   2. ]]\n",
      "-----------------\n",
      "[-2.  9. 11. 11.]\n",
      "********************************\n",
      "[[  1.    0.5   2.    0.5]\n",
      " [  0.    1.   -2.8  -1. ]\n",
      " [  0.    0.  -13.6   0. ]\n",
      " [  0.    0.  -11.4  -1. ]]\n",
      "-----------------\n",
      "[-2.   3.6 27.2 21.8]\n",
      "********************************\n",
      "[[ 1.   0.5  2.   0.5]\n",
      " [ 0.   1.  -2.8 -1. ]\n",
      " [-0.  -0.   1.  -0. ]\n",
      " [ 0.   0.   0.  -1. ]]\n",
      "-----------------\n",
      "[-2.   3.6 -2.  -1. ]\n",
      "********************************\n",
      "[[ 1.   0.5  2.   0.5]\n",
      " [ 0.   1.  -2.8 -1. ]\n",
      " [-0.  -0.   1.  -0. ]\n",
      " [-0.  -0.  -0.   1. ]]\n",
      "-----------------\n",
      "[-2.   3.6 -2.   1. ]\n",
      "********************************\n",
      "[[ 1.   0.5  2.   0.5]\n",
      " [ 0.   1.  -2.8 -1. ]\n",
      " [-0.  -0.   1.  -0. ]\n",
      " [-0.  -0.  -0.   1. ]]\n",
      "-----------------\n",
      "[-2.   3.6 -2.   1. ]\n"
     ]
    }
   ],
   "source": [
    "v = np.array([ -4, 3, 9, 7 ],float)  # Vector del sistema a resolver\n",
    "N = len(v)   #dimension\n",
    "\n",
    "A = np.array([[ 2,  1,  4,  1 ],\n",
    "           [ 3,  4, -1, -1 ],\n",
    "           [ 1, -4,  1,  5 ],\n",
    "           [ 2, -2,  1,  3 ]],float)\n",
    "\n",
    "\n",
    "# Eliminacion Gaussiana\n",
    "for m in range(N):\n",
    "    \n",
    "    # Localizo el elemento a pivotear\n",
    "    div = A[m,m]    \n",
    "    A[m,:] /= div  # divido el renglon que toca entre su pivote    \n",
    "    v[m] /= div      # También dividimos al vector del sistema por el pivote\n",
    "\n",
    "############ Una vez \"pivoteado\" el renglon\n",
    "\n",
    "    for i in range(m+1,N):\n",
    "        mult = A[i,m]          #encontramos el elemento por el que debemos multiplicar\n",
    "        A[i,:] = A[i,:] - mult*A[m,:]   # y multiplicamo el renglon por dicho numero y se lo restamos al renglón de abajo\n",
    "        v[i] = v[i] - mult*v[m]        # hacemos las mismas operaciones para el vector de resultados     \n",
    "\n",
    "    print(A)\n",
    "    print(\"-----------------\")\n",
    "    print(v)\n",
    "    print(\"********************************\")   \n",
    "\n",
    "        \n",
    "print(A)\n",
    "print(\"-----------------\")\n",
    "print(v)\n",
    "\n"
   ]
  },
  {
   "cell_type": "code",
   "execution_count": null,
   "id": "63a57784",
   "metadata": {},
   "outputs": [],
   "source": []
  },
  {
   "cell_type": "code",
   "execution_count": null,
   "id": "90e983c7",
   "metadata": {},
   "outputs": [],
   "source": []
  },
  {
   "cell_type": "code",
   "execution_count": null,
   "id": "1a2c406b",
   "metadata": {},
   "outputs": [],
   "source": []
  },
  {
   "cell_type": "markdown",
   "id": "3541308d",
   "metadata": {},
   "source": [
    "## Eliminación Gussiana"
   ]
  },
  {
   "cell_type": "code",
   "execution_count": 5,
   "id": "832f657a",
   "metadata": {},
   "outputs": [
    {
     "name": "stdout",
     "output_type": "stream",
     "text": [
      "[0. 0. 0. 1.]\n",
      "-----------------\n",
      "[0. 0. 0. 1.]\n",
      "[ 0.  0. -2.  1.]\n",
      "-----------------\n",
      "[ 0.  0. -2.  1.]\n",
      "[ 0.   3.6 -2.   1. ]\n",
      "-----------------\n",
      "[ 0. -1. -2.  1.]\n",
      "[-2. -1. -2.  1.]\n",
      "-----------------\n",
      "[ 2. -1. -2.  1.]\n",
      "********************************\n",
      "[[ 1.   0.5  2.   0.5]\n",
      " [ 0.   1.  -2.8 -1. ]\n",
      " [-0.  -0.   1.  -0. ]\n",
      " [-0.  -0.  -0.   1. ]]\n"
     ]
    }
   ],
   "source": [
    "v = np.array([ -4, 3, 9, 7 ],float)  # Vector del sistema a resolver\n",
    "N = len(v)   #dimension\n",
    "\n",
    "A = np.array([[ 2,  1,  4,  1 ],\n",
    "           [ 3,  4, -1, -1 ],\n",
    "           [ 1, -4,  1,  5 ],\n",
    "           [ 2, -2,  1,  3 ]],float)\n",
    "\n",
    "\n",
    "# Eliminacion Gaussiana\n",
    "for m in range(N):\n",
    "    \n",
    "    # Localizo el elemento a pivotear\n",
    "    div = A[m,m]    \n",
    "    A[m,:] /= div  # divido el renglon que toca entre su pivote    \n",
    "    v[m] /= div      # También dividimos al vector del sistema por el pivote\n",
    "\n",
    "    for i in range(m+1,N):\n",
    "        mult = A[i,m]          #encontramos el elemento por el que debemos multiplicar\n",
    "        A[i,:] = A[i,:] - mult*A[m,:]   # y multiplicamo el renglon por dicho numero y se lo restamos al renglón de abajo\n",
    "        v[i] = v[i] - mult*v[m]        # hacemos las mismas operaciones para el vector de resultados     \n",
    "        \n",
    "        \n",
    "\n",
    "############ Una vez \"triangulizada\" la matriz  realizamos el  Backsubstitution\n",
    "\n",
    "x = np.empty(N,float)  #definimos unvector x vacio\n",
    "\n",
    "for m in range(N-1,-1,-1):\n",
    "    x[m] = v[m]               #asignamos a x el valor del ultimo elemento\n",
    "    print(x)\n",
    "    for i in range(m+1,N):\n",
    "        x[m] -= A[m,i]*x[i]\n",
    "    print(\"-----------------\")\n",
    "\n",
    "    print(x)\n",
    "\n",
    "        \n",
    "print(\"********************************\")    \n",
    "print(A)  "
   ]
  },
  {
   "cell_type": "code",
   "execution_count": null,
   "id": "dfca70d4",
   "metadata": {},
   "outputs": [],
   "source": [
    "A[2,:]"
   ]
  },
  {
   "cell_type": "code",
   "execution_count": null,
   "id": "4e834147",
   "metadata": {},
   "outputs": [],
   "source": []
  },
  {
   "cell_type": "code",
   "execution_count": null,
   "id": "5fc8cd53",
   "metadata": {},
   "outputs": [],
   "source": []
  },
  {
   "cell_type": "code",
   "execution_count": null,
   "id": "5cb22d9a",
   "metadata": {},
   "outputs": [],
   "source": []
  },
  {
   "cell_type": "code",
   "execution_count": null,
   "id": "18fb1852",
   "metadata": {},
   "outputs": [],
   "source": [
    "v = np.array([ -4, 3, 9, 7 ],float)  # Vector del sistema a resolver\n",
    "N = len(v)   #dimension\n",
    "\n",
    "A = np.array([[ 2,  1,  4,  1 ],\n",
    "           [ 3,  4, -1, -1 ],\n",
    "           [ 1, -4,  1,  5 ],\n",
    "           [ 2, -2,  1,  3 ]],float)\n",
    "\n",
    "\n",
    "# Eliminacion Gaussiana\n",
    "for m in range(N):\n",
    "    \n",
    "    # Localizo el elemento a pivotear\n",
    "    div = A[m,m]    \n",
    "    A[m,:] /= div  # divido el renglon que toca entre su pivote    \n",
    "    v[m] /= div      # También dividimos al vector del sistema por el pivote\n",
    "\n",
    "############ Una vez \"pivoteada\" la matriz\n",
    "\n",
    "    for i in range(m+1,N):\n",
    "        mult = A[i,m]          #encontramos el elemento por el que debemos multiplicar\n",
    "#         A[i,:] -= mult*A[m,:]\n",
    "#         v[i] -= mult*v[m]\n"
   ]
  },
  {
   "cell_type": "code",
   "execution_count": null,
   "id": "ff33263f",
   "metadata": {},
   "outputs": [],
   "source": []
  },
  {
   "cell_type": "code",
   "execution_count": null,
   "id": "c4ff3335",
   "metadata": {},
   "outputs": [],
   "source": []
  },
  {
   "cell_type": "code",
   "execution_count": null,
   "id": "c8eb804c",
   "metadata": {},
   "outputs": [],
   "source": []
  },
  {
   "cell_type": "code",
   "execution_count": null,
   "id": "a7f08185",
   "metadata": {},
   "outputs": [],
   "source": []
  },
  {
   "cell_type": "code",
   "execution_count": null,
   "id": "386dbb6a",
   "metadata": {},
   "outputs": [],
   "source": []
  },
  {
   "cell_type": "code",
   "execution_count": null,
   "id": "9975b3f2",
   "metadata": {},
   "outputs": [],
   "source": []
  }
 ],
 "metadata": {
  "@webio": {
   "lastCommId": null,
   "lastKernelId": null
  },
  "kernelspec": {
   "display_name": "Python 3 (ipykernel)",
   "language": "python",
   "name": "python3"
  },
  "language_info": {
   "codemirror_mode": {
    "name": "ipython",
    "version": 3
   },
   "file_extension": ".py",
   "mimetype": "text/x-python",
   "name": "python",
   "nbconvert_exporter": "python",
   "pygments_lexer": "ipython3",
   "version": "3.11.4"
  }
 },
 "nbformat": 4,
 "nbformat_minor": 5
}
