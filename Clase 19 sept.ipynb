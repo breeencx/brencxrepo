{
 "cells": [
  {
   "cell_type": "markdown",
   "id": "87027575",
   "metadata": {},
   "source": [
    "Integral de 1.4-2 de la integral de 1-1.5 ln(x+2y) dy dx\n",
    "\n"
   ]
  },
  {
   "cell_type": "code",
   "execution_count": 8,
   "id": "70b772f6",
   "metadata": {},
   "outputs": [],
   "source": [
    "import math\n",
    "import scipy as sp\n",
    "import matplotlib.pyplot as pl\n",
    "import numpy as np\n"
   ]
  },
  {
   "cell_type": "code",
   "execution_count": 35,
   "id": "a490107d",
   "metadata": {},
   "outputs": [],
   "source": [
    "def F(x,y):\n",
    "    return np.log(x+2*y)\n",
    "\n",
    "def gauss2D_xw_ab(N,a,b,c,d):\n",
    "    x,w= sp.special.roots_legendre(N)\n",
    "    \n",
    "    X = ((b-a)/2)*x +((b+a)/2), (((b-a)/2)*w)\n",
    "    Y = ((d-c)/2)*x +((d+c)/2), (((d-c)/2)*w)\n",
    "    \n",
    "    return X, Y"
   ]
  },
  {
   "cell_type": "code",
   "execution_count": 58,
   "id": "e1334f9b",
   "metadata": {},
   "outputs": [],
   "source": [
    "def CuadGauss2D(N,f,a,b,c,d):\n",
    "\n",
    "    S =0.0 \n",
    "    Sx=0.0\n",
    "    Sy=0.0\n",
    "    Y,X= gauss2D_xw_ab(N,a,b,c,d)\n",
    "    \n",
    "    yj= Y[0]\n",
    "    xi= X[0]\n",
    "    \n",
    "    wj= Y[1]\n",
    "    wi= X[1]\n",
    "    S= S + wi[i]*wj[j]*F(xi[i],yj[j])  \n",
    "#se cambio para separar las umas para cada x, y\n",
    "    \n",
    "# for i in range(N):\n",
    "#     for i in range(N):\n",
    "#         Sx= Sx + wi[i]*F(xi[i], yj[j])\n",
    "#     Sy = Sy + wj[j]*F(xi[i], yj[j])\n",
    "# S = Sx + Sy\n",
    "    return S"
   ]
  },
  {
   "cell_type": "code",
   "execution_count": 59,
   "id": "56e89a6f",
   "metadata": {},
   "outputs": [
    {
     "data": {
      "text/plain": [
       "((array([1.42814605, 1.53845921, 1.7       , 1.86154079, 1.97185395]),\n",
       "  array([0.07107807, 0.1435886 , 0.17066667, 0.1435886 , 0.07107807])),\n",
       " (array([1.02345504, 1.11538267, 1.25      , 1.38461733, 1.47654496]),\n",
       "  array([0.05923172, 0.11965717, 0.14222222, 0.11965717, 0.05923172])))"
      ]
     },
     "execution_count": 59,
     "metadata": {},
     "output_type": "execute_result"
    }
   ],
   "source": [
    "N=5\n",
    "a,b= 1.4,2\n",
    "c,d= 1, 1.5\n",
    "\n",
    "gauss2D_xw_ab(N,a,b,c,d)"
   ]
  },
  {
   "cell_type": "code",
   "execution_count": 60,
   "id": "8f19618c",
   "metadata": {},
   "outputs": [
    {
     "data": {
      "text/plain": [
       "(array([-0.97390653, -0.86506337, -0.67940957, -0.43339539, -0.14887434,\n",
       "         0.14887434,  0.43339539,  0.67940957,  0.86506337,  0.97390653]),\n",
       " array([0.06667134, 0.14945135, 0.21908636, 0.26926672, 0.29552422,\n",
       "        0.29552422, 0.26926672, 0.21908636, 0.14945135, 0.06667134]))"
      ]
     },
     "execution_count": 60,
     "metadata": {},
     "output_type": "execute_result"
    }
   ],
   "source": [
    "\n",
    "sp.special.roots_legendre(10)"
   ]
  },
  {
   "cell_type": "code",
   "execution_count": 21,
   "id": "ef7533ea",
   "metadata": {},
   "outputs": [],
   "source": [
    "\n",
    "# y, w2= sp.special.roots_legendre(10)\n"
   ]
  }
 ],
 "metadata": {
  "kernelspec": {
   "display_name": "Python 3 (ipykernel)",
   "language": "python",
   "name": "python3"
  },
  "language_info": {
   "codemirror_mode": {
    "name": "ipython",
    "version": 3
   },
   "file_extension": ".py",
   "mimetype": "text/x-python",
   "name": "python",
   "nbconvert_exporter": "python",
   "pygments_lexer": "ipython3",
   "version": "3.9.13"
  }
 },
 "nbformat": 4,
 "nbformat_minor": 5
}
